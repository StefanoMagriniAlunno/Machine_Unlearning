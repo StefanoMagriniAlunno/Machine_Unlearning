{
  "cells": [
    {
      "cell_type": "markdown",
      "metadata": {},
      "source": [
        "# Machine Unlearning\n",
        "\n",
        "Can you unlearn something?\n",
        "\n",
        "Your task here is the following: given a network pre-trained on some data, you want to finetune it to selectively forget a class, and learn a new class.\n",
        "\n",
        "As an initial approach, you may do the following.\n",
        "\n",
        "Start with a MNIST classifier pre-trained on a subset of the\n",
        "digits.\n",
        "\n",
        "Now replace one of the learned digits, say the class \u201c6\u201d, with a new digit, say \u201c3\u201d.\n",
        "\n",
        "A possible way to proceed is to identify which weights are more involved in the prediction of class \u201c6\u201d, freeze all the rest, and train with a loss that favors the \u201c3\u201d while penalizing the \u201c6\u201d.\n",
        "\n",
        "Test this baseline and see whether it brings you anywhere. Are there any pitfalls in this idea? Does it work? Use it as a first line of attack to understand the problem.\n",
        "\n",
        "Starting from these baseline tests, devise a new unlearning procedure.\n",
        "\n",
        "You can improve upon this baseline, make up your own idea from scratch, or check the literature to get ideas.\n",
        "\n",
        "If you use an existing approach, you must add something new, for example by testing it on some new data modality (e.g., audio), by studying more extreme cases, failures, weaknesses, or by making it more efficient, and so on."
      ]
    },
    {
      "cell_type": "code",
      "execution_count": 2,
      "metadata": {},
      "outputs": [
        {
          "name": "stdout",
          "output_type": "stream",
          "text": [
            "Downloading https://biometrics.nist.gov/cs_links/EMNIST/gzip.zip to data/db/EMNIST/raw/gzip.zip\n"
          ]
        },
        {
          "name": "stderr",
          "output_type": "stream",
          "text": [
            "100%|\u2588\u2588\u2588\u2588\u2588\u2588\u2588\u2588\u2588\u2588| 561753746/561753746 [01:03<00:00, 8886202.00it/s] \n"
          ]
        },
        {
          "name": "stdout",
          "output_type": "stream",
          "text": [
            "Extracting data/db/EMNIST/raw/gzip.zip to data/db/EMNIST/raw\n",
            " Num of parameters =  4089940\n",
            "   Num of classes  =  20\n",
            "    Num of data    =  48000\n",
            "    Batch size     =  256\n"
          ]
        },
        {
          "data": {
            "application/vnd.jupyter.widget-view+json": {
              "model_id": "f7c637466be04925943d60aba81e559d",
              "version_major": 2,
              "version_minor": 0
            },
            "text/plain": [
              "Epochs:   0%|          | 0/10 [00:00<?, ?it/s]"
            ]
          },
          "metadata": {},
          "output_type": "display_data"
        },
        {
          "data": {
            "application/vnd.jupyter.widget-view+json": {
              "model_id": "b5587ffc926843f6be599001460727b7",
              "version_major": 2,
              "version_minor": 0
            },
            "text/plain": [
              "Batch:   0%|          | 0/188 [00:00<?, ?it/s]"
            ]
          },
          "metadata": {},
          "output_type": "display_data"
        },
        {
          "data": {
            "application/vnd.jupyter.widget-view+json": {
              "model_id": "c0242fb1afdf4ff8b259a018bf3b2114",
              "version_major": 2,
              "version_minor": 0
            },
            "text/plain": [
              "Batch:   0%|          | 0/188 [00:00<?, ?it/s]"
            ]
          },
          "metadata": {},
          "output_type": "display_data"
        },
        {
          "data": {
            "application/vnd.jupyter.widget-view+json": {
              "model_id": "25d633919ad54884b49cf78dc3f63f64",
              "version_major": 2,
              "version_minor": 0
            },
            "text/plain": [
              "Batch:   0%|          | 0/188 [00:00<?, ?it/s]"
            ]
          },
          "metadata": {},
          "output_type": "display_data"
        },
        {
          "data": {
            "application/vnd.jupyter.widget-view+json": {
              "model_id": "9ba40518a3f6412e9c3c997fb1fe4eb0",
              "version_major": 2,
              "version_minor": 0
            },
            "text/plain": [
              "Batch:   0%|          | 0/188 [00:00<?, ?it/s]"
            ]
          },
          "metadata": {},
          "output_type": "display_data"
        },
        {
          "data": {
            "application/vnd.jupyter.widget-view+json": {
              "model_id": "ac7daf49632c4ef9b686f60dc2794d1a",
              "version_major": 2,
              "version_minor": 0
            },
            "text/plain": [
              "Batch:   0%|          | 0/188 [00:00<?, ?it/s]"
            ]
          },
          "metadata": {},
          "output_type": "display_data"
        },
        {
          "data": {
            "application/vnd.jupyter.widget-view+json": {
              "model_id": "4b4a53545a094f669ebb727a103bdfb8",
              "version_major": 2,
              "version_minor": 0
            },
            "text/plain": [
              "Batch:   0%|          | 0/188 [00:00<?, ?it/s]"
            ]
          },
          "metadata": {},
          "output_type": "display_data"
        },
        {
          "data": {
            "application/vnd.jupyter.widget-view+json": {
              "model_id": "91460d8d6b764502863d4b9f107e5f59",
              "version_major": 2,
              "version_minor": 0
            },
            "text/plain": [
              "Batch:   0%|          | 0/188 [00:00<?, ?it/s]"
            ]
          },
          "metadata": {},
          "output_type": "display_data"
        },
        {
          "data": {
            "application/vnd.jupyter.widget-view+json": {
              "model_id": "ec56af1278db4d17b19c5b5d8b9a59bb",
              "version_major": 2,
              "version_minor": 0
            },
            "text/plain": [
              "Batch:   0%|          | 0/188 [00:00<?, ?it/s]"
            ]
          },
          "metadata": {},
          "output_type": "display_data"
        },
        {
          "data": {
            "application/vnd.jupyter.widget-view+json": {
              "model_id": "2bf37609aa294781abde6341aa20c04d",
              "version_major": 2,
              "version_minor": 0
            },
            "text/plain": [
              "Batch:   0%|          | 0/188 [00:00<?, ?it/s]"
            ]
          },
          "metadata": {},
          "output_type": "display_data"
        },
        {
          "data": {
            "application/vnd.jupyter.widget-view+json": {
              "model_id": "494208f532f14c1da8472b0808a78e88",
              "version_major": 2,
              "version_minor": 0
            },
            "text/plain": [
              "Batch:   0%|          | 0/188 [00:00<?, ?it/s]"
            ]
          },
          "metadata": {},
          "output_type": "display_data"
        },
        {
          "name": "stdout",
          "output_type": "stream",
          "text": [
            "+-------+--------------------+--------------------+---------------------+-----------------------+---------------------+---------------------+\n",
            "| epoch |      accuracy      |     confidence     |        loss         |         l_var         |        l_min        |        l_max        |\n",
            "+-------+--------------------+--------------------+---------------------+-----------------------+---------------------+---------------------+\n",
            "|   0   | 0.7818525598404256 | 6.382060844213404  | 0.6774950906475807  |  0.3503454232059944   | 0.23381371796131134 | 3.0437827110290527  |\n",
            "|   1   | 0.8871550864361702 | 8.858036705788146  | 0.2903615283839246  | 0.002556033422767688  | 0.18921081721782684 | 0.42253467440605164 |\n",
            "|   2   | 0.8968168218085106 | 9.437099299532301  | 0.25876873485902524 | 0.001568617451765293  | 0.1367725282907486  | 0.36834076046943665 |\n",
            "|   3   | 0.9050033244680851 | 9.830474569442424  | 0.2342135840432441  | 0.0018535351910591304 | 0.15193428099155426 | 0.3837572932243347  |\n",
            "|   4   | 0.9080161236702128 | 10.04344017962192  | 0.22453179043975283 | 0.0016175330462380553 | 0.1457865834236145  | 0.36773014068603516 |\n",
            "|   5   | 0.9114860372340425 | 10.209161469276916 | 0.21471997952841698 | 0.0017664985170694886 | 0.13095591962337494 |  0.387752503156662  |\n",
            "|   6   | 0.9147481715425532 | 10.402871801498089 |  0.204182283358371  | 0.0012591243095451457 | 0.13147275149822235 | 0.32105544209480286 |\n",
            "|   7   | 0.9152052859042553 | 10.537252989221127 | 0.2033715859214042  | 0.0014675855317398076 | 0.12563753128051758 |  0.312386155128479  |\n",
            "|   8   | 0.9177609707446809 | 10.624960473243226 | 0.19556738234105261 | 0.0011721837626051288 | 0.11639192700386047 | 0.28931546211242676 |\n",
            "|   9   | 0.9178440824468085 | 10.743082518273212 | 0.1930158058221036  | 0.0012027641740980147 | 0.11938422173261642 | 0.3222741186618805  |\n",
            "+-------+--------------------+--------------------+---------------------+-----------------------+---------------------+---------------------+\n",
            " Num of parameters =  4089940\n",
            "   Num of classes  =  20\n",
            "    Num of data    =  8000\n",
            "    Batch size     =  256\n"
          ]
        },
        {
          "data": {
            "application/vnd.jupyter.widget-view+json": {
              "model_id": "61c8cd60db4d4fcf91c17b4480d27406",
              "version_major": 2,
              "version_minor": 0
            },
            "text/plain": [
              "Testing:   0%|          | 0/32 [00:00<?, ?it/s]"
            ]
          },
          "metadata": {},
          "output_type": "display_data"
        },
        {
          "name": "stdout",
          "output_type": "stream",
          "text": [
            "Confidence:  11.314796477556229\n",
            "Accuracy:    0.8934326171875\n",
            "Confusion matrix:\n",
            "+----+--------+--------+--------+--------+--------+--------+--------+--------+--------+--------+---------+---------+---------+---------+---------+---------+---------+---------+---------+---------+\n",
            "|    | Pred_0 | Pred_1 | Pred_2 | Pred_3 | Pred_4 | Pred_5 | Pred_6 | Pred_7 | Pred_8 | Pred_9 | Pred_10 | Pred_11 | Pred_12 | Pred_13 | Pred_14 | Pred_15 | Pred_16 | Pred_17 | Pred_18 | Pred_19 |\n",
            "+----+--------+--------+--------+--------+--------+--------+--------+--------+--------+--------+---------+---------+---------+---------+---------+---------+---------+---------+---------+---------+\n",
            "| 0  |  92%   |   3%   |   0%   |   0%   |   0%   |   0%   |   1%   |   0%   |   0%   |   0%   |   0%    |   0%    |   0%    |   0%    |   0%    |   0%    |   0%    |   0%    |   0%    |   0%    |\n",
            "| 1  |   5%   |  90%   |   0%   |   0%   |   0%   |   0%   |   0%   |   0%   |   0%   |   0%   |   0%    |   0%    |   0%    |   0%    |   0%    |   0%    |   0%    |   2%    |   0%    |   0%    |\n",
            "| 2  |   0%   |   0%   |  59%   |   0%   |   0%   |  39%   |   0%   |   0%   |   0%   |   0%   |   0%    |   0%    |   0%    |   0%    |   0%    |   0%    |   0%    |   0%    |   0%    |   0%    |\n",
            "| 3  |   0%   |   0%   |   0%   |  99%   |   0%   |   0%   |   0%   |   0%   |   0%   |   0%   |   0%    |   0%    |   0%    |   0%    |   0%    |   0%    |   0%    |   0%    |   0%    |   0%    |\n",
            "| 4  |   0%   |   0%   |   0%   |   0%   |  98%   |   0%   |   0%   |   0%   |   0%   |   0%   |   0%    |   0%    |   0%    |   0%    |   0%    |   0%    |   0%    |   0%    |   0%    |   0%    |\n",
            "| 5  |   0%   |   0%   |  40%   |   0%   |   0%   |  57%   |   0%   |   0%   |   0%   |   0%   |   0%    |   0%    |   0%    |   0%    |   0%    |   0%    |   0%    |   0%    |   0%    |   0%    |\n",
            "| 6  |   0%   |   0%   |   0%   |   0%   |   0%   |   0%   |  96%   |   0%   |   0%   |   0%   |   0%    |   0%    |   0%    |   0%    |   0%    |   0%    |   0%    |   0%    |   0%    |   1%    |\n",
            "| 7  |   0%   |   0%   |   0%   |   0%   |   0%   |   0%   |   0%   |  97%   |   0%   |   0%   |   0%    |   0%    |   0%    |   0%    |   0%    |   0%    |   0%    |   0%    |   0%    |   0%    |\n",
            "| 8  |   0%   |   0%   |   0%   |   0%   |   0%   |   0%   |   0%   |   0%   |  97%   |   0%   |   0%    |   0%    |   0%    |   0%    |   0%    |   0%    |   1%    |   0%    |   0%    |   0%    |\n",
            "| 9  |   0%   |   0%   |   0%   |   0%   |   0%   |   0%   |   0%   |   0%   |   0%   |  94%   |   0%    |   1%    |   0%    |   0%    |   0%    |   0%    |   1%    |   0%    |   0%    |   0%    |\n",
            "| 10 |   0%   |   0%   |   0%   |   0%   |   0%   |   0%   |   0%   |   0%   |   0%   |   0%   |   96%   |   0%    |   0%    |   0%    |   0%    |   0%    |   0%    |   0%    |   0%    |   0%    |\n",
            "| 11 |   0%   |   0%   |   0%   |   0%   |   0%   |   0%   |   0%   |   0%   |   0%   |   0%   |   0%    |   74%   |   0%    |   0%    |   0%    |   0%    |   0%    |   0%    |   24%   |   0%    |\n",
            "| 12 |   0%   |   0%   |   0%   |   0%   |   0%   |   0%   |   0%   |   0%   |   0%   |   0%   |   0%    |   0%    |   97%   |   0%    |   0%    |   0%    |   0%    |   0%    |   0%    |   0%    |\n",
            "| 13 |   0%   |   0%   |   0%   |   0%   |   0%   |   0%   |   0%   |   0%   |   0%   |   0%   |   0%    |   0%    |   0%    |   99%   |   0%    |   0%    |   0%    |   0%    |   0%    |   0%    |\n",
            "| 14 |   0%   |   0%   |   0%   |   0%   |   0%   |   0%   |   0%   |   0%   |   0%   |   0%   |   0%    |   1%    |   0%    |   0%    |   97%   |   0%    |   0%    |   0%    |   0%    |   0%    |\n",
            "| 15 |   2%   |   1%   |   0%   |   0%   |   0%   |   0%   |   0%   |   0%   |   0%   |   0%   |   4%    |   0%    |   0%    |   0%    |   0%    |   82%   |   0%    |   3%    |   0%    |   0%    |\n",
            "| 16 |   0%   |   0%   |   0%   |   0%   |   0%   |   0%   |   0%   |   0%   |   0%   |   0%   |   0%    |   0%    |   0%    |   0%    |   0%    |   0%    |   98%   |   0%    |   0%    |   0%    |\n",
            "| 17 |   0%   |   1%   |   0%   |   0%   |   0%   |   0%   |   1%   |   0%   |   0%   |   0%   |   0%    |   0%    |   0%    |   0%    |   0%    |   0%    |   0%    |   96%   |   0%    |   0%    |\n",
            "| 18 |   0%   |   0%   |   0%   |   0%   |   0%   |   0%   |   0%   |   0%   |   0%   |   0%   |   0%    |   40%   |   0%    |   0%    |   0%    |   0%    |   0%    |   0%    |   59%   |   0%    |\n",
            "| 19 |   0%   |   0%   |   0%   |   0%   |   0%   |   0%   |   5%   |   0%   |   0%   |   0%   |   0%    |   0%    |   0%    |   0%    |   0%    |   0%    |   0%    |   0%    |   0%    |   93%   |\n",
            "+----+--------+--------+--------+--------+--------+--------+--------+--------+--------+--------+---------+---------+---------+---------+---------+---------+---------+---------+---------+---------+\n"
          ]
        }
      ],
      "source": [
        "# HOW TO TRAIN A MODEL\n",
        "\n",
        "# select a template from source.template:\n",
        "from source.template.EMNIST import main\n",
        "main(20, 10, 256, 'data/models/EMNIST')\n",
        "\n",
        "#from source.template.Cifar10 import main\n",
        "#main(8, 30, 512, 'data/models/Cifar10')"
      ]
    },
    {
      "cell_type": "markdown",
      "metadata": {},
      "source": [
        "## EMNIST"
      ]
    },
    {
      "cell_type": "code",
      "execution_count": 1,
      "metadata": {},
      "outputs": [
        {
          "name": "stdout",
          "output_type": "stream",
          "text": [
            "Classi originali:       [36, 41, 15, 32, 20, 40, 12, 14, 17, 13, 37, 18, 3, 5, 35, 11, 23, 16, 1, 39]\n",
            "Classi da memorizzare:  [36, 41, 15, 32, 20, 40, 12, 14, 17, 13, 22, 18, 3, 5, 35, 11, 23, 16, 1, 39]\n",
            "Classi da dimenticare:  37  (sostituita da 22)\n"
          ]
        }
      ],
      "source": [
        "# LOAD A MODEL\n",
        "import torch\n",
        "import os\n",
        "from source.template.EMNIST import Classifier\n",
        "from source.template.EMNIST import N_CLASSES\n",
        "import random\n",
        "\n",
        "model_path = \"data/models/EMNIST/36_41_15_32_20_40_12_14_17_13_37_18_3_5_35_11_23_16_1_39.pt\"\n",
        "original_list_classes = [int(c) for c in os.path.splitext(os.path.basename(model_path))[0].split('_')]\n",
        "n_classes = len(original_list_classes)\n",
        "\n",
        "model = Classifier(n_classes)\n",
        "model.load_state_dict(torch.load(model_path, weights_only=True))\n",
        "\n",
        "# seleziono una old_class a caso da list_classes\n",
        "old_class = random.choice(original_list_classes)\n",
        "# ottengo la new_class (un numero in range(N_CLASSES) non in list_classes)\n",
        "new_class = random.choice([i for i in range(N_CLASSES) if i not in original_list_classes])\n",
        "# sostituisco old_class con new_class in list_classes\n",
        "list_classes = original_list_classes.copy()\n",
        "list_classes[list_classes.index(old_class)] = new_class\n",
        "\n",
        "print(\"Classi originali:      \", original_list_classes)\n",
        "print(\"Classi da memorizzare: \", list_classes)\n",
        "print(\"Classi da dimenticare: \", old_class, f\" (sostituita da {new_class})\")"
      ]
    },
    {
      "cell_type": "code",
      "execution_count": 2,
      "metadata": {},
      "outputs": [],
      "source": [
        "# MAKE DATALOADER\n",
        "import torch.utils.data\n",
        "import torchvision\n",
        "from torchvision import transforms\n",
        "from source.template.EMNIST import SPLIT, FilterSet\n",
        "\n",
        "loader = torch.utils.data.DataLoader(\n",
        "    FilterSet(\n",
        "        torchvision.datasets.EMNIST(\n",
        "            root=\"data/db\",\n",
        "            split=SPLIT,\n",
        "            train=True,\n",
        "            download=True,\n",
        "            transform=transforms.Compose(\n",
        "                [\n",
        "                    transforms.ToTensor(),\n",
        "                    transforms.Grayscale(),\n",
        "                    transforms.Pad(2),  # pad to 32x32\n",
        "                    transforms.RandomAffine(\n",
        "                        degrees=5,\n",
        "                        translate=(0.1, 0.1),\n",
        "                        scale=(0.9, 1.1),\n",
        "                        shear=10\n",
        "                    ),\n",
        "                    transforms.ColorJitter(contrast=(0.9,1.5)),\n",
        "                ]\n",
        "            ),\n",
        "            target_transform=lambda x: list_classes.index(x) if x in list_classes else -1\n",
        "        ),\n",
        "        torch.tensor(list_classes + [old_class]),\n",
        "    ),\n",
        "    batch_size=256,\n",
        "    shuffle=True,\n",
        "    num_workers=4,\n",
        "    pin_memory=True\n",
        ")\n"
      ]
    },
    {
      "cell_type": "code",
      "execution_count": 3,
      "metadata": {},
      "outputs": [],
      "source": [
        "# TEST LOADER\n",
        "\n",
        "test_loader = torch.utils.data.DataLoader(\n",
        "    FilterSet(\n",
        "        torchvision.datasets.EMNIST(\n",
        "            root=\"data/db\",\n",
        "            split=SPLIT,\n",
        "            train=False,\n",
        "            download=True,\n",
        "            transform=transforms.Compose(\n",
        "                [\n",
        "                    transforms.ToTensor(),\n",
        "                    transforms.Grayscale(),\n",
        "                    transforms.Pad(2),  # pad to 32x32\n",
        "                ]\n",
        "            ),\n",
        "            target_transform=lambda x: list_classes.index(x) if x in list_classes else -1\n",
        "        ),\n",
        "        torch.tensor(list_classes + [old_class]),\n",
        "    ),\n",
        "    batch_size=512,\n",
        "    num_workers=4,\n",
        "    pin_memory=True\n",
        ")"
      ]
    },
    {
      "cell_type": "markdown",
      "metadata": {},
      "source": [
        "## Cifar10"
      ]
    },
    {
      "cell_type": "code",
      "execution_count": 6,
      "metadata": {},
      "outputs": [
        {
          "name": "stdout",
          "output_type": "stream",
          "text": [
            "Classi originali:       [7, 5, 8, 1, 9, 6, 2, 3]\n",
            "Classi da memorizzare:  [7, 0, 8, 1, 9, 6, 2, 3]\n",
            "Classi da dimenticare:  5  (sostituita da 0)\n"
          ]
        }
      ],
      "source": [
        "# LOAD A MODEL\n",
        "import torch\n",
        "import os\n",
        "from source.template.Cifar10 import Classifier\n",
        "from source.template.Cifar10 import N_CLASSES\n",
        "import random\n",
        "\n",
        "model_path = \"data/models/Cifar10/7_5_8_1_9_6_2_3.pt\"\n",
        "original_list_classes = [int(c) for c in os.path.splitext(os.path.basename(model_path))[0].split('_')]\n",
        "n_classes = len(original_list_classes)\n",
        "\n",
        "model = Classifier(n_classes)\n",
        "model.load_state_dict(torch.load(model_path, weights_only=True))\n",
        "\n",
        "# seleziono una old_class a caso da list_classes\n",
        "old_class = random.choice(original_list_classes)\n",
        "# ottengo la new_class (un numero in range(N_CLASSES) non in list_classes)\n",
        "new_class = random.choice([i for i in range(N_CLASSES) if i not in original_list_classes])\n",
        "# sostituisco old_class con new_class in list_classes\n",
        "list_classes = original_list_classes.copy()\n",
        "list_classes[list_classes.index(old_class)] = new_class\n",
        "\n",
        "print(\"Classi originali:      \", original_list_classes)\n",
        "print(\"Classi da memorizzare: \", list_classes)\n",
        "print(\"Classi da dimenticare: \", old_class, f\" (sostituita da {new_class})\")"
      ]
    },
    {
      "cell_type": "code",
      "execution_count": 7,
      "metadata": {},
      "outputs": [
        {
          "name": "stdout",
          "output_type": "stream",
          "text": [
            "Downloading https://www.cs.toronto.edu/~kriz/cifar-10-python.tar.gz to data/db/cifar-10-python.tar.gz\n"
          ]
        },
        {
          "name": "stderr",
          "output_type": "stream",
          "text": [
            "100%|\u2588\u2588\u2588\u2588\u2588\u2588\u2588\u2588\u2588\u2588| 170498071/170498071 [00:12<00:00, 13517873.15it/s]\n"
          ]
        },
        {
          "name": "stdout",
          "output_type": "stream",
          "text": [
            "Extracting data/db/cifar-10-python.tar.gz to data/db\n"
          ]
        }
      ],
      "source": [
        "# MAKE DATALOADER\n",
        "import torch.utils.data\n",
        "import torchvision\n",
        "from torchvision import transforms\n",
        "from source.template.Cifar10 import FilterSet\n",
        "\n",
        "loader = torch.utils.data.DataLoader(\n",
        "    FilterSet(\n",
        "        torchvision.datasets.CIFAR10(\n",
        "            root=\"data/db\",\n",
        "            train=True,\n",
        "            download=True,\n",
        "            transform=transforms.Compose([\n",
        "                transforms.RandomResizedCrop(32, scale=(0.8, 1.0)),\n",
        "                transforms.RandomAffine(\n",
        "                    degrees=0,\n",
        "                    scale=(1.0, 1.1),\n",
        "                    shear=0\n",
        "                ),\n",
        "                transforms.ColorJitter(\n",
        "                    contrast=(0.9,1.5),\n",
        "                    saturation=(0.9,1.3),\n",
        "                    brightness=(0.9,1.3),\n",
        "                    hue=(-0.05,0.05),\n",
        "                ),\n",
        "                transforms.RandomHorizontalFlip(),\n",
        "                transforms.ToTensor(),\n",
        "                transforms.Normalize(mean=[0.4914, 0.4822, 0.4465], std=[0.2023, 0.1994, 0.2010]),\n",
        "            ]),\n",
        "            target_transform=lambda x: list_classes.index(x) if x in list_classes else -1\n",
        "        ),\n",
        "        torch.tensor(list_classes + [old_class]),\n",
        "    ),\n",
        "    batch_size=256,\n",
        "    shuffle=True,\n",
        "    num_workers=4,\n",
        "    pin_memory=True\n",
        ")\n"
      ]
    },
    {
      "cell_type": "code",
      "execution_count": 8,
      "metadata": {},
      "outputs": [
        {
          "name": "stdout",
          "output_type": "stream",
          "text": [
            "Files already downloaded and verified\n"
          ]
        }
      ],
      "source": [
        "# TEST LOADER\n",
        "\n",
        "test_loader = torch.utils.data.DataLoader(\n",
        "    FilterSet(\n",
        "        torchvision.datasets.CIFAR10(\n",
        "            root=\"data/db\",\n",
        "            train=False,\n",
        "            download=True,\n",
        "            transform=transforms.Compose(\n",
        "                [\n",
        "                    transforms.ToTensor(),\n",
        "                    transforms.Normalize(mean=[0.4914, 0.4822, 0.4465], std=[0.2023, 0.1994, 0.2010]),\n",
        "                ]\n",
        "            ),\n",
        "            target_transform=lambda x: list_classes.index(x) if x in list_classes else -1\n",
        "        ),\n",
        "        torch.tensor(list_classes + [old_class]),\n",
        "    ),\n",
        "    batch_size=512,\n",
        "    num_workers=4,\n",
        "    pin_memory=True\n",
        ")"
      ]
    },
    {
      "cell_type": "markdown",
      "metadata": {},
      "source": [
        "## Training and Testing"
      ]
    },
    {
      "cell_type": "code",
      "execution_count": 9,
      "metadata": {},
      "outputs": [
        {
          "name": "stdout",
          "output_type": "stream",
          "text": [
            " Num of parameters =  26702760\n",
            "    Num of data    =  45000\n",
            "    Batch size     =  256\n",
            "  Num of classes   =  8\n",
            "     Classes       =  [7, 0, 8, 1, 9, 6, 2, 3]\n"
          ]
        },
        {
          "data": {
            "application/vnd.jupyter.widget-view+json": {
              "model_id": "d7b5147137414d77b52dcab74c641e46",
              "version_major": 2,
              "version_minor": 0
            },
            "text/plain": [
              "Epochs:   0%|          | 0/10 [00:00<?, ?it/s]"
            ]
          },
          "metadata": {},
          "output_type": "display_data"
        },
        {
          "data": {
            "application/vnd.jupyter.widget-view+json": {
              "model_id": "98cfffe4d33842b090ef51cf4056d453",
              "version_major": 2,
              "version_minor": 0
            },
            "text/plain": [
              "Batches:   0%|          | 0/176 [00:00<?, ?it/s]"
            ]
          },
          "metadata": {},
          "output_type": "display_data"
        },
        {
          "data": {
            "application/vnd.jupyter.widget-view+json": {
              "model_id": "d5cb8d97c5b34fd79809863b916b17f6",
              "version_major": 2,
              "version_minor": 0
            },
            "text/plain": [
              "Batches:   0%|          | 0/176 [00:00<?, ?it/s]"
            ]
          },
          "metadata": {},
          "output_type": "display_data"
        },
        {
          "data": {
            "application/vnd.jupyter.widget-view+json": {
              "model_id": "9101b7038dba4248a0078615d2b23e3b",
              "version_major": 2,
              "version_minor": 0
            },
            "text/plain": [
              "Batches:   0%|          | 0/176 [00:00<?, ?it/s]"
            ]
          },
          "metadata": {},
          "output_type": "display_data"
        },
        {
          "data": {
            "application/vnd.jupyter.widget-view+json": {
              "model_id": "0df214699dc541298b10e118571d3fb5",
              "version_major": 2,
              "version_minor": 0
            },
            "text/plain": [
              "Batches:   0%|          | 0/176 [00:00<?, ?it/s]"
            ]
          },
          "metadata": {},
          "output_type": "display_data"
        },
        {
          "data": {
            "application/vnd.jupyter.widget-view+json": {
              "model_id": "13d061c7498749169d783531cf1f0cc7",
              "version_major": 2,
              "version_minor": 0
            },
            "text/plain": [
              "Batches:   0%|          | 0/176 [00:00<?, ?it/s]"
            ]
          },
          "metadata": {},
          "output_type": "display_data"
        },
        {
          "data": {
            "application/vnd.jupyter.widget-view+json": {
              "model_id": "e949c37fc9a74f3d8e9988409bcdf266",
              "version_major": 2,
              "version_minor": 0
            },
            "text/plain": [
              "Batches:   0%|          | 0/176 [00:00<?, ?it/s]"
            ]
          },
          "metadata": {},
          "output_type": "display_data"
        },
        {
          "data": {
            "application/vnd.jupyter.widget-view+json": {
              "model_id": "e7757bba01934d36acbb5e8b566b740a",
              "version_major": 2,
              "version_minor": 0
            },
            "text/plain": [
              "Batches:   0%|          | 0/176 [00:00<?, ?it/s]"
            ]
          },
          "metadata": {},
          "output_type": "display_data"
        },
        {
          "data": {
            "application/vnd.jupyter.widget-view+json": {
              "model_id": "aae6cca374bb4757911465274a19d199",
              "version_major": 2,
              "version_minor": 0
            },
            "text/plain": [
              "Batches:   0%|          | 0/176 [00:00<?, ?it/s]"
            ]
          },
          "metadata": {},
          "output_type": "display_data"
        },
        {
          "data": {
            "application/vnd.jupyter.widget-view+json": {
              "model_id": "6072c893d9c84962ab7012a5f8eb9c15",
              "version_major": 2,
              "version_minor": 0
            },
            "text/plain": [
              "Batches:   0%|          | 0/176 [00:00<?, ?it/s]"
            ]
          },
          "metadata": {},
          "output_type": "display_data"
        },
        {
          "data": {
            "application/vnd.jupyter.widget-view+json": {
              "model_id": "527ac9aeed6e420bb072294f294dab52",
              "version_major": 2,
              "version_minor": 0
            },
            "text/plain": [
              "Batches:   0%|          | 0/176 [00:00<?, ?it/s]"
            ]
          },
          "metadata": {},
          "output_type": "display_data"
        },
        {
          "name": "stdout",
          "output_type": "stream",
          "text": [
            "Confusion matrix:\n",
            "+---+-----+-----+-----+-----+-----+-----+-----+-----+\n",
            "|   |  7  |  0  |  8  |  1  |  9  |  6  |  2  |  3  |\n",
            "+---+-----+-----+-----+-----+-----+-----+-----+-----+\n",
            "| 0 | 93% | 1%  | 0%  | 0%  | 0%  | 0%  | 1%  | 2%  |\n",
            "| 1 | 4%  | 32% | 16% | 2%  | 8%  | 1%  | 21% | 13% |\n",
            "| 2 | 0%  | 4%  | 91% | 0%  | 0%  | 0%  | 0%  | 1%  |\n",
            "| 3 | 0%  | 0%  | 1%  | 93% | 2%  | 0%  | 0%  | 0%  |\n",
            "| 4 | 0%  | 1%  | 1%  | 2%  | 91% | 0%  | 0%  | 1%  |\n",
            "| 5 | 0%  | 0%  | 0%  | 0%  | 0%  | 92% | 2%  | 3%  |\n",
            "| 6 | 1%  | 4%  | 0%  | 0%  | 0%  | 2%  | 86% | 4%  |\n",
            "| 7 | 2%  | 3%  | 0%  | 0%  | 0%  | 3%  | 3%  | 86% |\n",
            "+---+-----+-----+-----+-----+-----+-----+-----+-----+\n",
            "+-------+--------------------+--------------------+---------------------+\n",
            "| epoch |      accuracy      |     confidence     |       hiding        |\n",
            "+-------+--------------------+--------------------+---------------------+\n",
            "|   0   | 0.8031563450171926 | 12.737132256681269 | 0.16080016469244252 |\n",
            "|   1   | 0.8092331497417213 | 12.526117227294229 | 0.19140156024050983 |\n",
            "|   2   | 0.8078807932975413 | 11.659331516786056 | 0.19024410073391415 |\n",
            "|   3   | 0.8123732988125382 | 10.806306925686924 | 0.17025854984637012 |\n",
            "|   4   | 0.8216194808773061 | 10.656400740146637 |  0.164388950787146  |\n",
            "|   5   | 0.8389720348363293 | 10.567043700001456 | 0.17317760519852693 |\n",
            "|   6   | 0.8524740034761727 | 10.577525848692114 | 0.17994876764714718 |\n",
            "|   7   | 0.8615168310502831 | 10.402653027664531 | 0.24677377532828937 |\n",
            "|   8   | 0.8730215504221625 | 10.425196062434804 | 0.24725919462401758 |\n",
            "|   9   | 0.8757028655908229 | 10.447304985739969 | 0.27049494365399535 |\n",
            "+-------+--------------------+--------------------+---------------------+\n"
          ]
        }
      ],
      "source": [
        "from source.MachineUnlearning import train\n",
        "\n",
        "train(\n",
        "    model,\n",
        "    loader,\n",
        "    10,\n",
        "    n_layers=2,\n",
        "    w=0.1,   # the weight of the unlearning term (1% of the classification loss)\n",
        "    device=torch.device('cuda'),\n",
        "    classes=list_classes,\n",
        ")"
      ]
    },
    {
      "cell_type": "code",
      "execution_count": 11,
      "metadata": {},
      "outputs": [
        {
          "name": "stdout",
          "output_type": "stream",
          "text": [
            " Num of parameters =  26702760\n",
            "    Num of data    =  9000\n",
            "    Batch size     =  512\n",
            "  Num of classes   =  8\n",
            "     Classes       =  [7, 0, 8, 1, 9, 6, 2, 3]\n"
          ]
        },
        {
          "data": {
            "application/vnd.jupyter.widget-view+json": {
              "model_id": "7514d2ae4ea843ae995f3c5b56cf8831",
              "version_major": 2,
              "version_minor": 0
            },
            "text/plain": [
              "Testing:   0%|          | 0/18 [00:00<?, ?it/s]"
            ]
          },
          "metadata": {},
          "output_type": "display_data"
        },
        {
          "name": "stdout",
          "output_type": "stream",
          "text": [
            "Accuracy:  0.8495\n",
            "Confidence:  11.602653563022614\n",
            "Confusion matrix:\n",
            "+---+-----+-----+-----+-----+-----+-----+-----+-----+\n",
            "|   |  7  |  0  |  8  |  1  |  9  |  6  |  2  |  3  |\n",
            "+---+-----+-----+-----+-----+-----+-----+-----+-----+\n",
            "| 0 | 86% | 2%  | 0%  | 0%  | 0%  | 1%  | 3%  | 3%  |\n",
            "| 1 | 2%  | 58% | 8%  | 2%  | 3%  | 1%  | 14% | 8%  |\n",
            "| 2 | 0%  | 7%  | 84% | 1%  | 1%  | 0%  | 1%  | 1%  |\n",
            "| 3 | 0%  | 0%  | 2%  | 90% | 4%  | 0%  | 0%  | 0%  |\n",
            "| 4 | 1%  | 2%  | 2%  | 6%  | 84% | 1%  | 0%  | 1%  |\n",
            "| 5 | 0%  | 0%  | 0%  | 0%  | 0%  | 89% | 4%  | 4%  |\n",
            "| 6 | 3%  | 8%  | 0%  | 0%  | 0%  | 7%  | 73% | 5%  |\n",
            "| 7 | 5%  | 6%  | 1%  | 0%  | 1%  | 12% | 8%  | 63% |\n",
            "+---+-----+-----+-----+-----+-----+-----+-----+-----+\n",
            "Hiding - distribution:  0.05895945802330971\n",
            "Hiding - covariance:  [0.73, 0.09, 0.83, 2.04, 1.04, 0.86, 0.34, 0.29]\n"
          ]
        }
      ],
      "source": [
        "from source.MachineUnlearning import test\n",
        "\n",
        "test(\n",
        "    model,\n",
        "    test_loader,\n",
        "    device=torch.device('cuda'),\n",
        "    classes=list_classes,\n",
        ")"
      ]
    }
  ],
  "metadata": {
    "kernelspec": {
      "display_name": ".venv",
      "language": "python",
      "name": "python3"
    },
    "language_info": {
      "codemirror_mode": {
        "name": "ipython",
        "version": 3
      },
      "file_extension": ".py",
      "mimetype": "text/x-python",
      "name": "python",
      "nbconvert_exporter": "python",
      "pygments_lexer": "ipython3",
      "version": "3.10.12"
    }
  },
  "nbformat": 4,
  "nbformat_minor": 2
}
